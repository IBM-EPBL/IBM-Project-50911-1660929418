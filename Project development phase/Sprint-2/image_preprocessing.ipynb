{
  "nbformat": 4,
  "nbformat_minor": 0,
  "metadata": {
    "colab": {
      "provenance": []
    },
    "kernelspec": {
      "name": "python3",
      "display_name": "Python 3"
    },
    "language_info": {
      "name": "python"
    }
  },
  "cells": [
    {
      "cell_type": "code",
      "execution_count": null,
      "metadata": {
        "id": "cqZYDPcKVMe_"
      },
      "outputs": [],
      "source": [
        "# Import required lib\n",
        "from tensorflow.keras.preprocessing.image import ImageDataGenerator\n",
        "from google.colab import drive\n",
        "drive.mount('/content/drive')\n",
        "Mounted at /content/drive\n",
        "dataset_url = \"/content/drive/MyDrive/Car damage-20221108T135149Z-001\"\n",
        "#Creating augmentation on training variable\n",
        "train_datagen = ImageDataGenerator(rescale=1./255,\n",
        "                                   zoom_range=0.2,\n",
        "                                   horizontal_flip=True)\n",
        "# Creating augmentation on testing variable\n",
        "\n",
        "test_datagen = ImageDataGenerator(rescale=1./255)\n",
        "# Passing training data to train variable for body\n",
        "\n",
        "xtrain = train_datagen.flow_from_directory('/content/drive/MyDrive/Car damage-20221108T135149Z-001/Car damage/body/training',\n",
        "                                           target_size=(224,224),\n",
        "                                           class_mode='categorical',\n",
        "                                           batch_size=10)\n",
        "Found 979 images belonging to 3 classes.\n",
        "# Passing testing data to test variable for body\n",
        "\n",
        "xtest = test_datagen.flow_from_directory('/content/drive/MyDrive/Car damage-20221108T135149Z-001/Car damage/body/validation',\n",
        "                                         target_size=(224,224),\n",
        "                                         class_mode='categorical',\n",
        "                                         batch_size=10)\n",
        "Found 171 images belonging to 3 classes.\n",
        "# Passing training data to train variable for level\n",
        "\n",
        "x_train = train_datagen.flow_from_directory('/content/drive/MyDrive/Car damage-20221108T135149Z-001/Car damage/level/training',\n",
        "                                           target_size=(224,224),\n",
        "                                           class_mode='categorical',\n",
        "                                           batch_size=10)\n",
        "Found 768 images belonging to 3 classes.\n",
        "# Passing testing data to test variable for level\n",
        "\n",
        "x_test = test_datagen.flow_from_directory('/content/drive/MyDrive/Car damage-20221108T135149Z-001/Car damage/level/validation',\n",
        "                                         target_size=(224,224),\n",
        "                                         class_mode='categorical',\n",
        "                                         batch_size=10)\n",
        "Found 171 images belonging to 3 classes."
      ]
    },
    {
      "cell_type": "code",
      "source": [],
      "metadata": {
        "id": "WvUYfA_aVNhu"
      },
      "execution_count": null,
      "outputs": []
    }
  ]
}